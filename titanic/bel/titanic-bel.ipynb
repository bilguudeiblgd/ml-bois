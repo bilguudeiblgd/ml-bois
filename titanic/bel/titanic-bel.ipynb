{
 "cells": [
  {
   "cell_type": "code",
   "execution_count": 1,
   "id": "c203ada6",
   "metadata": {
    "_cell_guid": "b1076dfc-b9ad-4769-8c92-a6c4dae69d19",
    "_uuid": "8f2839f25d086af736a60e9eeb907d3b93b6e0e5",
    "execution": {
     "iopub.execute_input": "2023-11-26T22:41:30.473416Z",
     "iopub.status.busy": "2023-11-26T22:41:30.472129Z",
     "iopub.status.idle": "2023-11-26T22:41:30.940990Z",
     "shell.execute_reply": "2023-11-26T22:41:30.939616Z"
    },
    "papermill": {
     "duration": 0.481594,
     "end_time": "2023-11-26T22:41:30.944100",
     "exception": false,
     "start_time": "2023-11-26T22:41:30.462506",
     "status": "completed"
    },
    "tags": []
   },
   "outputs": [
    {
     "name": "stdout",
     "output_type": "stream",
     "text": [
      "/kaggle/input/titanic/train.csv\n",
      "/kaggle/input/titanic/test.csv\n",
      "/kaggle/input/titanic/gender_submission.csv\n"
     ]
    }
   ],
   "source": [
    "# This Python 3 environment comes with many helpful analytics libraries installed\n",
    "# It is defined by the kaggle/python Docker image: https://github.com/kaggle/docker-python\n",
    "# For example, here's several helpful packages to load\n",
    "\n",
    "import numpy as np # linear algebra\n",
    "import pandas as pd # data processing, CSV file I/O (e.g. pd.read_csv)\n",
    "\n",
    "# Input data files are available in the read-only \"../input/\" directory\n",
    "# For example, running this (by clicking run or pressing Shift+Enter) will list all files under the input directory\n",
    "\n",
    "import os\n",
    "for dirname, _, filenames in os.walk('/kaggle/input'):\n",
    "    for filename in filenames:\n",
    "        print(os.path.join(dirname, filename))\n",
    "\n",
    "# You can write up to 20GB to the current directory (/kaggle/working/) that gets preserved as output when you create a version using \"Save & Run All\" \n",
    "# You can also write temporary files to /kaggle/temp/, but they won't be saved outside of the current session"
   ]
  },
  {
   "cell_type": "markdown",
   "id": "18564d59",
   "metadata": {
    "execution": {
     "iopub.execute_input": "2023-11-26T18:28:00.517495Z",
     "iopub.status.busy": "2023-11-26T18:28:00.517099Z",
     "iopub.status.idle": "2023-11-26T18:28:00.521097Z",
     "shell.execute_reply": "2023-11-26T18:28:00.520246Z",
     "shell.execute_reply.started": "2023-11-26T18:28:00.517472Z"
    },
    "papermill": {
     "duration": 0.0068,
     "end_time": "2023-11-26T22:41:30.960449",
     "exception": false,
     "start_time": "2023-11-26T22:41:30.953649",
     "status": "completed"
    },
    "tags": []
   },
   "source": [
    "## Read data"
   ]
  },
  {
   "cell_type": "code",
   "execution_count": 2,
   "id": "04625a29",
   "metadata": {
    "execution": {
     "iopub.execute_input": "2023-11-26T22:41:30.976809Z",
     "iopub.status.busy": "2023-11-26T22:41:30.976182Z",
     "iopub.status.idle": "2023-11-26T22:41:32.716001Z",
     "shell.execute_reply": "2023-11-26T22:41:32.714863Z"
    },
    "papermill": {
     "duration": 1.751351,
     "end_time": "2023-11-26T22:41:32.718856",
     "exception": false,
     "start_time": "2023-11-26T22:41:30.967505",
     "status": "completed"
    },
    "tags": []
   },
   "outputs": [],
   "source": [
    "import matplotlib.pyplot as plt \n",
    "from sklearn.model_selection import train_test_split\n",
    "from sklearn.impute import KNNImputer\n",
    "from sklearn.preprocessing import normalize\n",
    "from sklearn.ensemble import RandomForestClassifier\n",
    "from sklearn.ensemble import AdaBoostClassifier\n",
    "from sklearn.metrics import accuracy_score"
   ]
  },
  {
   "cell_type": "code",
   "execution_count": 3,
   "id": "4a0da8c9",
   "metadata": {
    "execution": {
     "iopub.execute_input": "2023-11-26T22:41:32.735976Z",
     "iopub.status.busy": "2023-11-26T22:41:32.735535Z",
     "iopub.status.idle": "2023-11-26T22:41:32.781504Z",
     "shell.execute_reply": "2023-11-26T22:41:32.780437Z"
    },
    "papermill": {
     "duration": 0.057284,
     "end_time": "2023-11-26T22:41:32.783828",
     "exception": false,
     "start_time": "2023-11-26T22:41:32.726544",
     "status": "completed"
    },
    "tags": []
   },
   "outputs": [
    {
     "name": "stdout",
     "output_type": "stream",
     "text": [
      "(712, 12)\n",
      "(179, 12)\n",
      "(418, 11)\n"
     ]
    }
   ],
   "source": [
    "\n",
    "data_train = pd.read_csv('/kaggle/input/titanic/train.csv')\n",
    "data_test = pd.read_csv('/kaggle/input/titanic/test.csv')\n",
    "data_train, data_train_val = train_test_split(data_train, test_size=0.2, random_state=42)\n",
    "print(data_train.shape)\n",
    "print(data_train_val.shape)\n",
    "print(data_test.shape)"
   ]
  },
  {
   "cell_type": "code",
   "execution_count": 4,
   "id": "5b02e23f",
   "metadata": {
    "execution": {
     "iopub.execute_input": "2023-11-26T22:41:32.800623Z",
     "iopub.status.busy": "2023-11-26T22:41:32.799419Z",
     "iopub.status.idle": "2023-11-26T22:41:32.822694Z",
     "shell.execute_reply": "2023-11-26T22:41:32.821481Z"
    },
    "papermill": {
     "duration": 0.034611,
     "end_time": "2023-11-26T22:41:32.825534",
     "exception": false,
     "start_time": "2023-11-26T22:41:32.790923",
     "status": "completed"
    },
    "tags": []
   },
   "outputs": [
    {
     "data": {
      "text/plain": [
       "<bound method DataFrame.info of      PassengerId  Survived  Pclass                                Name  \\\n",
       "331          332         0       1                 Partner, Mr. Austen   \n",
       "733          734         0       2          Berriman, Mr. William John   \n",
       "382          383         0       3                  Tikkanen, Mr. Juho   \n",
       "704          705         0       3             Hansen, Mr. Henrik Juul   \n",
       "813          814         0       3  Andersson, Miss. Ebba Iris Alfrida   \n",
       "..           ...       ...     ...                                 ...   \n",
       "106          107         1       3    Salkjelsvik, Miss. Anna Kristine   \n",
       "270          271         0       1               Cairns, Mr. Alexander   \n",
       "860          861         0       3             Hansen, Mr. Claus Peter   \n",
       "435          436         1       1           Carter, Miss. Lucile Polk   \n",
       "102          103         0       1           White, Mr. Richard Frasar   \n",
       "\n",
       "        Sex   Age  SibSp  Parch             Ticket      Fare    Cabin Embarked  \n",
       "331    male  45.5      0      0             113043   28.5000     C124        S  \n",
       "733    male  23.0      0      0              28425   13.0000      NaN        S  \n",
       "382    male  32.0      0      0  STON/O 2. 3101293    7.9250      NaN        S  \n",
       "704    male  26.0      1      0             350025    7.8542      NaN        S  \n",
       "813  female   6.0      4      2             347082   31.2750      NaN        S  \n",
       "..      ...   ...    ...    ...                ...       ...      ...      ...  \n",
       "106  female  21.0      0      0             343120    7.6500      NaN        S  \n",
       "270    male   NaN      0      0             113798   31.0000      NaN        S  \n",
       "860    male  41.0      2      0             350026   14.1083      NaN        S  \n",
       "435  female  14.0      1      2             113760  120.0000  B96 B98        S  \n",
       "102    male  21.0      0      1              35281   77.2875      D26        S  \n",
       "\n",
       "[712 rows x 12 columns]>"
      ]
     },
     "execution_count": 4,
     "metadata": {},
     "output_type": "execute_result"
    }
   ],
   "source": [
    "data_train.info"
   ]
  },
  {
   "cell_type": "code",
   "execution_count": 5,
   "id": "4da560b6",
   "metadata": {
    "execution": {
     "iopub.execute_input": "2023-11-26T22:41:32.841871Z",
     "iopub.status.busy": "2023-11-26T22:41:32.841419Z",
     "iopub.status.idle": "2023-11-26T22:41:34.805499Z",
     "shell.execute_reply": "2023-11-26T22:41:34.804259Z"
    },
    "papermill": {
     "duration": 1.975795,
     "end_time": "2023-11-26T22:41:34.808636",
     "exception": false,
     "start_time": "2023-11-26T22:41:32.832841",
     "status": "completed"
    },
    "tags": []
   },
   "outputs": [
    {
     "data": {
      "image/png": "[encoded data removed]",
      "text/plain": [
       "<Figure size 1200x800 with 9 Axes>"
      ]
     },
     "metadata": {},
     "output_type": "display_data"
    }
   ],
   "source": [
    "data_train.hist(bins=50, figsize=(12, 8))\n",
    "plt.show()"
   ]
  },
  {
   "cell_type": "markdown",
   "id": "b3f4a313",
   "metadata": {
    "papermill": {
     "duration": 0.007809,
     "end_time": "2023-11-26T22:41:34.825183",
     "exception": false,
     "start_time": "2023-11-26T22:41:34.817374",
     "status": "completed"
    },
    "tags": []
   },
   "source": [
    "## Start encoding process\n",
    "* sex = (male, female) => (1,0)\n",
    "* embarked = (c, q, s) => (0,1,2)"
   ]
  },
  {
   "cell_type": "code",
   "execution_count": 6,
   "id": "ca4fdfc9",
   "metadata": {
    "execution": {
     "iopub.execute_input": "2023-11-26T22:41:34.843435Z",
     "iopub.status.busy": "2023-11-26T22:41:34.842964Z",
     "iopub.status.idle": "2023-11-26T22:41:34.859522Z",
     "shell.execute_reply": "2023-11-26T22:41:34.858206Z"
    },
    "papermill": {
     "duration": 0.029235,
     "end_time": "2023-11-26T22:41:34.862513",
     "exception": false,
     "start_time": "2023-11-26T22:41:34.833278",
     "status": "completed"
    },
    "tags": []
   },
   "outputs": [],
   "source": [
    "def encodeData(df):\n",
    "    df = df.copy()\n",
    "    \n",
    "    sex_mapping = {'female': 0, 'male': 1}\n",
    "    embark_mapping = {'C': 0, 'Q': 1, 'S': 2}\n",
    "    \n",
    "    df['Sex'] = df['Sex'].map(sex_mapping)\n",
    "    df['Embarked'] = df['Embarked'].map(embark_mapping)\n",
    "    \n",
    "    df = df.drop(columns=[\"Name\"])\n",
    "    df = df.drop(columns=[\"Cabin\"])\n",
    "    df = df.drop(columns=[\"Ticket\"])\n",
    "    \n",
    "    return df\n",
    "\n",
    "data_train_processed = encodeData(data_train)"
   ]
  },
  {
   "cell_type": "markdown",
   "id": "c97793ad",
   "metadata": {
    "papermill": {
     "duration": 0.008266,
     "end_time": "2023-11-26T22:41:34.879045",
     "exception": false,
     "start_time": "2023-11-26T22:41:34.870779",
     "status": "completed"
    },
    "tags": []
   },
   "source": [
    "## Look for Correlations"
   ]
  },
  {
   "cell_type": "code",
   "execution_count": 7,
   "id": "d94cd657",
   "metadata": {
    "execution": {
     "iopub.execute_input": "2023-11-26T22:41:34.897264Z",
     "iopub.status.busy": "2023-11-26T22:41:34.896798Z",
     "iopub.status.idle": "2023-11-26T22:41:34.909345Z",
     "shell.execute_reply": "2023-11-26T22:41:34.908231Z"
    },
    "papermill": {
     "duration": 0.024882,
     "end_time": "2023-11-26T22:41:34.912095",
     "exception": false,
     "start_time": "2023-11-26T22:41:34.887213",
     "status": "completed"
    },
    "tags": []
   },
   "outputs": [
    {
     "data": {
      "text/plain": [
       "Survived       1.000000\n",
       "Fare           0.246641\n",
       "Parch          0.078311\n",
       "PassengerId    0.019979\n",
       "SibSp         -0.047602\n",
       "Age           -0.059695\n",
       "Embarked      -0.157497\n",
       "Pclass        -0.321750\n",
       "Sex           -0.541750\n",
       "Name: Survived, dtype: float64"
      ]
     },
     "execution_count": 7,
     "metadata": {},
     "output_type": "execute_result"
    }
   ],
   "source": [
    "corr_matrix = data_train_processed.corr()\n",
    "corr_matrix[\"Survived\"].sort_values(ascending=False)"
   ]
  },
  {
   "cell_type": "markdown",
   "id": "8866dae1",
   "metadata": {
    "papermill": {
     "duration": 0.008131,
     "end_time": "2023-11-26T22:41:34.928726",
     "exception": false,
     "start_time": "2023-11-26T22:41:34.920595",
     "status": "completed"
    },
    "tags": []
   },
   "source": [
    "## Impute missing values"
   ]
  },
  {
   "cell_type": "code",
   "execution_count": 8,
   "id": "4abc3184",
   "metadata": {
    "execution": {
     "iopub.execute_input": "2023-11-26T22:41:34.947726Z",
     "iopub.status.busy": "2023-11-26T22:41:34.946838Z",
     "iopub.status.idle": "2023-11-26T22:41:35.031642Z",
     "shell.execute_reply": "2023-11-26T22:41:35.030396Z"
    },
    "papermill": {
     "duration": 0.1004,
     "end_time": "2023-11-26T22:41:35.037308",
     "exception": false,
     "start_time": "2023-11-26T22:41:34.936908",
     "status": "completed"
    },
    "tags": []
   },
   "outputs": [
    {
     "name": "stdout",
     "output_type": "stream",
     "text": [
      "Columns with missing values:\n",
      "Age         140\n",
      "Embarked      2\n",
      "dtype: int64\n"
     ]
    },
    {
     "data": {
      "text/html": [
       "<div>\n",
       "<style scoped>\n",
       "    .dataframe tbody tr th:only-of-type {\n",
       "        vertical-align: middle;\n",
       "    }\n",
       "\n",
       "    .dataframe tbody tr th {\n",
       "        vertical-align: top;\n",
       "    }\n",
       "\n",
       "    .dataframe thead th {\n",
       "        text-align: right;\n",
       "    }\n",
       "</style>\n",
       "<table border=\"1\" class=\"dataframe\">\n",
       "  <thead>\n",
       "    <tr style=\"text-align: right;\">\n",
       "      <th></th>\n",
       "      <th>PassengerId</th>\n",
       "      <th>Survived</th>\n",
       "      <th>Pclass</th>\n",
       "      <th>Sex</th>\n",
       "      <th>Age</th>\n",
       "      <th>SibSp</th>\n",
       "      <th>Parch</th>\n",
       "      <th>Fare</th>\n",
       "      <th>Embarked</th>\n",
       "    </tr>\n",
       "  </thead>\n",
       "  <tbody>\n",
       "    <tr>\n",
       "      <th>331</th>\n",
       "      <td>332.0</td>\n",
       "      <td>0.0</td>\n",
       "      <td>1.0</td>\n",
       "      <td>1.0</td>\n",
       "      <td>45.5</td>\n",
       "      <td>0.0</td>\n",
       "      <td>0.0</td>\n",
       "      <td>28.5000</td>\n",
       "      <td>2.0</td>\n",
       "    </tr>\n",
       "    <tr>\n",
       "      <th>733</th>\n",
       "      <td>734.0</td>\n",
       "      <td>0.0</td>\n",
       "      <td>2.0</td>\n",
       "      <td>1.0</td>\n",
       "      <td>23.0</td>\n",
       "      <td>0.0</td>\n",
       "      <td>0.0</td>\n",
       "      <td>13.0000</td>\n",
       "      <td>2.0</td>\n",
       "    </tr>\n",
       "    <tr>\n",
       "      <th>382</th>\n",
       "      <td>383.0</td>\n",
       "      <td>0.0</td>\n",
       "      <td>3.0</td>\n",
       "      <td>1.0</td>\n",
       "      <td>32.0</td>\n",
       "      <td>0.0</td>\n",
       "      <td>0.0</td>\n",
       "      <td>7.9250</td>\n",
       "      <td>2.0</td>\n",
       "    </tr>\n",
       "    <tr>\n",
       "      <th>704</th>\n",
       "      <td>705.0</td>\n",
       "      <td>0.0</td>\n",
       "      <td>3.0</td>\n",
       "      <td>1.0</td>\n",
       "      <td>26.0</td>\n",
       "      <td>1.0</td>\n",
       "      <td>0.0</td>\n",
       "      <td>7.8542</td>\n",
       "      <td>2.0</td>\n",
       "    </tr>\n",
       "    <tr>\n",
       "      <th>813</th>\n",
       "      <td>814.0</td>\n",
       "      <td>0.0</td>\n",
       "      <td>3.0</td>\n",
       "      <td>0.0</td>\n",
       "      <td>6.0</td>\n",
       "      <td>4.0</td>\n",
       "      <td>2.0</td>\n",
       "      <td>31.2750</td>\n",
       "      <td>2.0</td>\n",
       "    </tr>\n",
       "    <tr>\n",
       "      <th>...</th>\n",
       "      <td>...</td>\n",
       "      <td>...</td>\n",
       "      <td>...</td>\n",
       "      <td>...</td>\n",
       "      <td>...</td>\n",
       "      <td>...</td>\n",
       "      <td>...</td>\n",
       "      <td>...</td>\n",
       "      <td>...</td>\n",
       "    </tr>\n",
       "    <tr>\n",
       "      <th>106</th>\n",
       "      <td>107.0</td>\n",
       "      <td>1.0</td>\n",
       "      <td>3.0</td>\n",
       "      <td>0.0</td>\n",
       "      <td>21.0</td>\n",
       "      <td>0.0</td>\n",
       "      <td>0.0</td>\n",
       "      <td>7.6500</td>\n",
       "      <td>2.0</td>\n",
       "    </tr>\n",
       "    <tr>\n",
       "      <th>270</th>\n",
       "      <td>271.0</td>\n",
       "      <td>0.0</td>\n",
       "      <td>1.0</td>\n",
       "      <td>1.0</td>\n",
       "      <td>27.6</td>\n",
       "      <td>0.0</td>\n",
       "      <td>0.0</td>\n",
       "      <td>31.0000</td>\n",
       "      <td>2.0</td>\n",
       "    </tr>\n",
       "    <tr>\n",
       "      <th>860</th>\n",
       "      <td>861.0</td>\n",
       "      <td>0.0</td>\n",
       "      <td>3.0</td>\n",
       "      <td>1.0</td>\n",
       "      <td>41.0</td>\n",
       "      <td>2.0</td>\n",
       "      <td>0.0</td>\n",
       "      <td>14.1083</td>\n",
       "      <td>2.0</td>\n",
       "    </tr>\n",
       "    <tr>\n",
       "      <th>435</th>\n",
       "      <td>436.0</td>\n",
       "      <td>1.0</td>\n",
       "      <td>1.0</td>\n",
       "      <td>0.0</td>\n",
       "      <td>14.0</td>\n",
       "      <td>1.0</td>\n",
       "      <td>2.0</td>\n",
       "      <td>120.0000</td>\n",
       "      <td>2.0</td>\n",
       "    </tr>\n",
       "    <tr>\n",
       "      <th>102</th>\n",
       "      <td>103.0</td>\n",
       "      <td>0.0</td>\n",
       "      <td>1.0</td>\n",
       "      <td>1.0</td>\n",
       "      <td>21.0</td>\n",
       "      <td>0.0</td>\n",
       "      <td>1.0</td>\n",
       "      <td>77.2875</td>\n",
       "      <td>2.0</td>\n",
       "    </tr>\n",
       "  </tbody>\n",
       "</table>\n",
       "<p>712 rows × 9 columns</p>\n",
       "</div>"
      ],
      "text/plain": [
       "     PassengerId  Survived  Pclass  Sex   Age  SibSp  Parch      Fare  \\\n",
       "331        332.0       0.0     1.0  1.0  45.5    0.0    0.0   28.5000   \n",
       "733        734.0       0.0     2.0  1.0  23.0    0.0    0.0   13.0000   \n",
       "382        383.0       0.0     3.0  1.0  32.0    0.0    0.0    7.9250   \n",
       "704        705.0       0.0     3.0  1.0  26.0    1.0    0.0    7.8542   \n",
       "813        814.0       0.0     3.0  0.0   6.0    4.0    2.0   31.2750   \n",
       "..           ...       ...     ...  ...   ...    ...    ...       ...   \n",
       "106        107.0       1.0     3.0  0.0  21.0    0.0    0.0    7.6500   \n",
       "270        271.0       0.0     1.0  1.0  27.6    0.0    0.0   31.0000   \n",
       "860        861.0       0.0     3.0  1.0  41.0    2.0    0.0   14.1083   \n",
       "435        436.0       1.0     1.0  0.0  14.0    1.0    2.0  120.0000   \n",
       "102        103.0       0.0     1.0  1.0  21.0    0.0    1.0   77.2875   \n",
       "\n",
       "     Embarked  \n",
       "331       2.0  \n",
       "733       2.0  \n",
       "382       2.0  \n",
       "704       2.0  \n",
       "813       2.0  \n",
       "..        ...  \n",
       "106       2.0  \n",
       "270       2.0  \n",
       "860       2.0  \n",
       "435       2.0  \n",
       "102       2.0  \n",
       "\n",
       "[712 rows x 9 columns]"
      ]
     },
     "execution_count": 8,
     "metadata": {},
     "output_type": "execute_result"
    }
   ],
   "source": [
    "def impute_missing_values(df):\n",
    "    df = df.copy()\n",
    "    missing_values = df.isnull().sum()\n",
    "\n",
    "    columns_with_missing_values = missing_values[missing_values > 0]\n",
    "\n",
    "    print(\"Columns with missing values:\")\n",
    "    print(columns_with_missing_values)\n",
    "    \n",
    "    imputer = KNNImputer(n_neighbors = 5)\n",
    "    return pd.DataFrame(imputer.fit_transform(df), index=df.index, columns=df.columns)\n",
    "    \n",
    "impute_missing_values(data_train_processed)"
   ]
  },
  {
   "cell_type": "code",
   "execution_count": 9,
   "id": "c65a33d1",
   "metadata": {
    "execution": {
     "iopub.execute_input": "2023-11-26T22:41:35.076951Z",
     "iopub.status.busy": "2023-11-26T22:41:35.076195Z",
     "iopub.status.idle": "2023-11-26T22:41:35.084153Z",
     "shell.execute_reply": "2023-11-26T22:41:35.082968Z"
    },
    "papermill": {
     "duration": 0.032077,
     "end_time": "2023-11-26T22:41:35.087675",
     "exception": false,
     "start_time": "2023-11-26T22:41:35.055598",
     "status": "completed"
    },
    "tags": []
   },
   "outputs": [],
   "source": [
    "def normalize_data(data):\n",
    "    data = data.copy()\n",
    "    return normalize(data)\n",
    "    "
   ]
  },
  {
   "cell_type": "code",
   "execution_count": 10,
   "id": "71f9012e",
   "metadata": {
    "execution": {
     "iopub.execute_input": "2023-11-26T22:41:35.108680Z",
     "iopub.status.busy": "2023-11-26T22:41:35.107860Z",
     "iopub.status.idle": "2023-11-26T22:41:35.202857Z",
     "shell.execute_reply": "2023-11-26T22:41:35.201072Z"
    },
    "papermill": {
     "duration": 0.10939,
     "end_time": "2023-11-26T22:41:35.206825",
     "exception": false,
     "start_time": "2023-11-26T22:41:35.097435",
     "status": "completed"
    },
    "tags": []
   },
   "outputs": [
    {
     "name": "stdout",
     "output_type": "stream",
     "text": [
      "Columns with missing values:\n",
      "Age         140\n",
      "Embarked      2\n",
      "dtype: int64\n"
     ]
    },
    {
     "data": {
      "text/html": [
       "<div>\n",
       "<style scoped>\n",
       "    .dataframe tbody tr th:only-of-type {\n",
       "        vertical-align: middle;\n",
       "    }\n",
       "\n",
       "    .dataframe tbody tr th {\n",
       "        vertical-align: top;\n",
       "    }\n",
       "\n",
       "    .dataframe thead th {\n",
       "        text-align: right;\n",
       "    }\n",
       "</style>\n",
       "<table border=\"1\" class=\"dataframe\">\n",
       "  <thead>\n",
       "    <tr style=\"text-align: right;\">\n",
       "      <th></th>\n",
       "      <th>Survived</th>\n",
       "      <th>Pclass</th>\n",
       "      <th>Sex</th>\n",
       "      <th>Age</th>\n",
       "      <th>SibSp</th>\n",
       "      <th>Parch</th>\n",
       "      <th>Fare</th>\n",
       "      <th>Embarked</th>\n",
       "    </tr>\n",
       "    <tr>\n",
       "      <th>PassengerId</th>\n",
       "      <th></th>\n",
       "      <th></th>\n",
       "      <th></th>\n",
       "      <th></th>\n",
       "      <th></th>\n",
       "      <th></th>\n",
       "      <th></th>\n",
       "      <th></th>\n",
       "    </tr>\n",
       "  </thead>\n",
       "  <tbody>\n",
       "    <tr>\n",
       "      <th>332.0</th>\n",
       "      <td>0.000000</td>\n",
       "      <td>0.018606</td>\n",
       "      <td>0.018606</td>\n",
       "      <td>0.846594</td>\n",
       "      <td>0.000000</td>\n",
       "      <td>0.000000</td>\n",
       "      <td>0.530284</td>\n",
       "      <td>0.037213</td>\n",
       "    </tr>\n",
       "    <tr>\n",
       "      <th>734.0</th>\n",
       "      <td>0.000000</td>\n",
       "      <td>0.075218</td>\n",
       "      <td>0.037609</td>\n",
       "      <td>0.865004</td>\n",
       "      <td>0.000000</td>\n",
       "      <td>0.000000</td>\n",
       "      <td>0.488915</td>\n",
       "      <td>0.075218</td>\n",
       "    </tr>\n",
       "    <tr>\n",
       "      <th>383.0</th>\n",
       "      <td>0.000000</td>\n",
       "      <td>0.090420</td>\n",
       "      <td>0.030140</td>\n",
       "      <td>0.964483</td>\n",
       "      <td>0.000000</td>\n",
       "      <td>0.000000</td>\n",
       "      <td>0.238860</td>\n",
       "      <td>0.060280</td>\n",
       "    </tr>\n",
       "    <tr>\n",
       "      <th>705.0</th>\n",
       "      <td>0.000000</td>\n",
       "      <td>0.109349</td>\n",
       "      <td>0.036450</td>\n",
       "      <td>0.947689</td>\n",
       "      <td>0.036450</td>\n",
       "      <td>0.000000</td>\n",
       "      <td>0.286282</td>\n",
       "      <td>0.072899</td>\n",
       "    </tr>\n",
       "    <tr>\n",
       "      <th>814.0</th>\n",
       "      <td>0.000000</td>\n",
       "      <td>0.092709</td>\n",
       "      <td>0.000000</td>\n",
       "      <td>0.185418</td>\n",
       "      <td>0.123612</td>\n",
       "      <td>0.061806</td>\n",
       "      <td>0.966491</td>\n",
       "      <td>0.061806</td>\n",
       "    </tr>\n",
       "    <tr>\n",
       "      <th>...</th>\n",
       "      <td>...</td>\n",
       "      <td>...</td>\n",
       "      <td>...</td>\n",
       "      <td>...</td>\n",
       "      <td>...</td>\n",
       "      <td>...</td>\n",
       "      <td>...</td>\n",
       "      <td>...</td>\n",
       "    </tr>\n",
       "    <tr>\n",
       "      <th>107.0</th>\n",
       "      <td>0.044129</td>\n",
       "      <td>0.132386</td>\n",
       "      <td>0.000000</td>\n",
       "      <td>0.926701</td>\n",
       "      <td>0.000000</td>\n",
       "      <td>0.000000</td>\n",
       "      <td>0.337584</td>\n",
       "      <td>0.088257</td>\n",
       "    </tr>\n",
       "    <tr>\n",
       "      <th>271.0</th>\n",
       "      <td>0.000000</td>\n",
       "      <td>0.024051</td>\n",
       "      <td>0.024051</td>\n",
       "      <td>0.663807</td>\n",
       "      <td>0.000000</td>\n",
       "      <td>0.000000</td>\n",
       "      <td>0.745580</td>\n",
       "      <td>0.048102</td>\n",
       "    </tr>\n",
       "    <tr>\n",
       "      <th>861.0</th>\n",
       "      <td>0.000000</td>\n",
       "      <td>0.068860</td>\n",
       "      <td>0.022953</td>\n",
       "      <td>0.941089</td>\n",
       "      <td>0.045907</td>\n",
       "      <td>0.000000</td>\n",
       "      <td>0.323833</td>\n",
       "      <td>0.045907</td>\n",
       "    </tr>\n",
       "    <tr>\n",
       "      <th>436.0</th>\n",
       "      <td>0.008274</td>\n",
       "      <td>0.008274</td>\n",
       "      <td>0.000000</td>\n",
       "      <td>0.115837</td>\n",
       "      <td>0.008274</td>\n",
       "      <td>0.016548</td>\n",
       "      <td>0.992889</td>\n",
       "      <td>0.016548</td>\n",
       "    </tr>\n",
       "    <tr>\n",
       "      <th>103.0</th>\n",
       "      <td>0.000000</td>\n",
       "      <td>0.012479</td>\n",
       "      <td>0.012479</td>\n",
       "      <td>0.262063</td>\n",
       "      <td>0.000000</td>\n",
       "      <td>0.012479</td>\n",
       "      <td>0.964486</td>\n",
       "      <td>0.024958</td>\n",
       "    </tr>\n",
       "  </tbody>\n",
       "</table>\n",
       "<p>712 rows × 8 columns</p>\n",
       "</div>"
      ],
      "text/plain": [
       "             Survived    Pclass       Sex       Age     SibSp     Parch  \\\n",
       "PassengerId                                                               \n",
       "332.0        0.000000  0.018606  0.018606  0.846594  0.000000  0.000000   \n",
       "734.0        0.000000  0.075218  0.037609  0.865004  0.000000  0.000000   \n",
       "383.0        0.000000  0.090420  0.030140  0.964483  0.000000  0.000000   \n",
       "705.0        0.000000  0.109349  0.036450  0.947689  0.036450  0.000000   \n",
       "814.0        0.000000  0.092709  0.000000  0.185418  0.123612  0.061806   \n",
       "...               ...       ...       ...       ...       ...       ...   \n",
       "107.0        0.044129  0.132386  0.000000  0.926701  0.000000  0.000000   \n",
       "271.0        0.000000  0.024051  0.024051  0.663807  0.000000  0.000000   \n",
       "861.0        0.000000  0.068860  0.022953  0.941089  0.045907  0.000000   \n",
       "436.0        0.008274  0.008274  0.000000  0.115837  0.008274  0.016548   \n",
       "103.0        0.000000  0.012479  0.012479  0.262063  0.000000  0.012479   \n",
       "\n",
       "                 Fare  Embarked  \n",
       "PassengerId                      \n",
       "332.0        0.530284  0.037213  \n",
       "734.0        0.488915  0.075218  \n",
       "383.0        0.238860  0.060280  \n",
       "705.0        0.286282  0.072899  \n",
       "814.0        0.966491  0.061806  \n",
       "...               ...       ...  \n",
       "107.0        0.337584  0.088257  \n",
       "271.0        0.745580  0.048102  \n",
       "861.0        0.323833  0.045907  \n",
       "436.0        0.992889  0.016548  \n",
       "103.0        0.964486  0.024958  \n",
       "\n",
       "[712 rows x 8 columns]"
      ]
     },
     "execution_count": 10,
     "metadata": {},
     "output_type": "execute_result"
    }
   ],
   "source": [
    "def preprocessing(data):\n",
    "    data_x = data.copy()\n",
    "    data_x = encodeData(data_x)\n",
    "    data_x = impute_missing_values(data_x)\n",
    "    data_x.set_index('PassengerId', inplace=True)\n",
    "\n",
    "    data_x = pd.DataFrame(normalize_data(data_x), data_x.index, data_x.columns)\n",
    "    \n",
    "    return data_x\n",
    "    \n",
    "preprocessing(data_train)"
   ]
  },
  {
   "cell_type": "code",
   "execution_count": 11,
   "id": "1dfb3939",
   "metadata": {
    "execution": {
     "iopub.execute_input": "2023-11-26T22:41:35.245929Z",
     "iopub.status.busy": "2023-11-26T22:41:35.245070Z",
     "iopub.status.idle": "2023-11-26T22:41:36.031613Z",
     "shell.execute_reply": "2023-11-26T22:41:36.030579Z"
    },
    "papermill": {
     "duration": 0.808981,
     "end_time": "2023-11-26T22:41:36.034619",
     "exception": false,
     "start_time": "2023-11-26T22:41:35.225638",
     "status": "completed"
    },
    "tags": []
   },
   "outputs": [
    {
     "name": "stdout",
     "output_type": "stream",
     "text": [
      "Columns with missing values:\n",
      "Age         140\n",
      "Embarked      2\n",
      "dtype: int64\n"
     ]
    }
   ],
   "source": [
    "def train_model(data):\n",
    "    data_x = data.drop(columns=[\"Survived\"])\n",
    "    data_y = data[\"Survived\"]\n",
    "    \n",
    "    data_x = preprocessing(data_x)\n",
    "    \n",
    "    rf = RandomForestClassifier(n_estimators=250, max_depth=5,random_state=0)\n",
    "    rf.fit(data_x,data_y)\n",
    "    return rf\n",
    "\n",
    "rf = train_model(data_train)"
   ]
  },
  {
   "cell_type": "code",
   "execution_count": 12,
   "id": "a8b6130c",
   "metadata": {
    "execution": {
     "iopub.execute_input": "2023-11-26T22:41:36.056225Z",
     "iopub.status.busy": "2023-11-26T22:41:36.055361Z",
     "iopub.status.idle": "2023-11-26T22:41:36.062497Z",
     "shell.execute_reply": "2023-11-26T22:41:36.061508Z"
    },
    "papermill": {
     "duration": 0.020626,
     "end_time": "2023-11-26T22:41:36.064916",
     "exception": false,
     "start_time": "2023-11-26T22:41:36.044290",
     "status": "completed"
    },
    "tags": []
   },
   "outputs": [
    {
     "data": {
      "text/plain": [
       "array([0, 1])"
      ]
     },
     "execution_count": 12,
     "metadata": {},
     "output_type": "execute_result"
    }
   ],
   "source": [
    "rf.classes_"
   ]
  },
  {
   "cell_type": "code",
   "execution_count": 13,
   "id": "3bfb1f56",
   "metadata": {
    "execution": {
     "iopub.execute_input": "2023-11-26T22:41:36.086055Z",
     "iopub.status.busy": "2023-11-26T22:41:36.085238Z",
     "iopub.status.idle": "2023-11-26T22:41:36.134360Z",
     "shell.execute_reply": "2023-11-26T22:41:36.133131Z"
    },
    "papermill": {
     "duration": 0.062449,
     "end_time": "2023-11-26T22:41:36.136790",
     "exception": false,
     "start_time": "2023-11-26T22:41:36.074341",
     "status": "completed"
    },
    "tags": []
   },
   "outputs": [
    {
     "name": "stdout",
     "output_type": "stream",
     "text": [
      "Columns with missing values:\n",
      "Age    37\n",
      "dtype: int64\n"
     ]
    },
    {
     "data": {
      "text/plain": [
       "0.7988826815642458"
      ]
     },
     "execution_count": 13,
     "metadata": {},
     "output_type": "execute_result"
    }
   ],
   "source": [
    "def predict_scores(data, model):\n",
    "    data_x = data.drop(columns=[\"Survived\"])\n",
    "    data_y = data[\"Survived\"]\n",
    "    \n",
    "    data_x = preprocessing(data_x)\n",
    "    \n",
    "    prediction = model.predict(data_x)\n",
    "    accuracy = accuracy_score(data_y, prediction)\n",
    "    return accuracy\n",
    "predict_scores(data_train_val, rf)"
   ]
  },
  {
   "cell_type": "code",
   "execution_count": null,
   "id": "33ee7adc",
   "metadata": {
    "papermill": {
     "duration": 0.009566,
     "end_time": "2023-11-26T22:41:36.156115",
     "exception": false,
     "start_time": "2023-11-26T22:41:36.146549",
     "status": "completed"
    },
    "tags": []
   },
   "outputs": [],
   "source": []
  },
  {
   "cell_type": "code",
   "execution_count": 14,
   "id": "78f3ac74",
   "metadata": {
    "execution": {
     "iopub.execute_input": "2023-11-26T22:41:36.178004Z",
     "iopub.status.busy": "2023-11-26T22:41:36.177559Z",
     "iopub.status.idle": "2023-11-26T22:41:36.292232Z",
     "shell.execute_reply": "2023-11-26T22:41:36.291026Z"
    },
    "papermill": {
     "duration": 0.129459,
     "end_time": "2023-11-26T22:41:36.295623",
     "exception": false,
     "start_time": "2023-11-26T22:41:36.166164",
     "status": "completed"
    },
    "tags": []
   },
   "outputs": [
    {
     "name": "stdout",
     "output_type": "stream",
     "text": [
      "Columns with missing values:\n",
      "Age     86\n",
      "Fare     1\n",
      "dtype: int64\n"
     ]
    },
    {
     "data": {
      "text/html": [
       "<div>\n",
       "<style scoped>\n",
       "    .dataframe tbody tr th:only-of-type {\n",
       "        vertical-align: middle;\n",
       "    }\n",
       "\n",
       "    .dataframe tbody tr th {\n",
       "        vertical-align: top;\n",
       "    }\n",
       "\n",
       "    .dataframe thead th {\n",
       "        text-align: right;\n",
       "    }\n",
       "</style>\n",
       "<table border=\"1\" class=\"dataframe\">\n",
       "  <thead>\n",
       "    <tr style=\"text-align: right;\">\n",
       "      <th></th>\n",
       "      <th>PassengerId</th>\n",
       "      <th>Survived</th>\n",
       "    </tr>\n",
       "  </thead>\n",
       "  <tbody>\n",
       "    <tr>\n",
       "      <th>0</th>\n",
       "      <td>892</td>\n",
       "      <td>0</td>\n",
       "    </tr>\n",
       "    <tr>\n",
       "      <th>1</th>\n",
       "      <td>893</td>\n",
       "      <td>0</td>\n",
       "    </tr>\n",
       "    <tr>\n",
       "      <th>2</th>\n",
       "      <td>894</td>\n",
       "      <td>0</td>\n",
       "    </tr>\n",
       "    <tr>\n",
       "      <th>3</th>\n",
       "      <td>895</td>\n",
       "      <td>0</td>\n",
       "    </tr>\n",
       "    <tr>\n",
       "      <th>4</th>\n",
       "      <td>896</td>\n",
       "      <td>0</td>\n",
       "    </tr>\n",
       "    <tr>\n",
       "      <th>...</th>\n",
       "      <td>...</td>\n",
       "      <td>...</td>\n",
       "    </tr>\n",
       "    <tr>\n",
       "      <th>413</th>\n",
       "      <td>1305</td>\n",
       "      <td>0</td>\n",
       "    </tr>\n",
       "    <tr>\n",
       "      <th>414</th>\n",
       "      <td>1306</td>\n",
       "      <td>1</td>\n",
       "    </tr>\n",
       "    <tr>\n",
       "      <th>415</th>\n",
       "      <td>1307</td>\n",
       "      <td>0</td>\n",
       "    </tr>\n",
       "    <tr>\n",
       "      <th>416</th>\n",
       "      <td>1308</td>\n",
       "      <td>0</td>\n",
       "    </tr>\n",
       "    <tr>\n",
       "      <th>417</th>\n",
       "      <td>1309</td>\n",
       "      <td>0</td>\n",
       "    </tr>\n",
       "  </tbody>\n",
       "</table>\n",
       "<p>418 rows × 2 columns</p>\n",
       "</div>"
      ],
      "text/plain": [
       "     PassengerId  Survived\n",
       "0            892         0\n",
       "1            893         0\n",
       "2            894         0\n",
       "3            895         0\n",
       "4            896         0\n",
       "..           ...       ...\n",
       "413         1305         0\n",
       "414         1306         1\n",
       "415         1307         0\n",
       "416         1308         0\n",
       "417         1309         0\n",
       "\n",
       "[418 rows x 2 columns]"
      ]
     },
     "execution_count": 14,
     "metadata": {},
     "output_type": "execute_result"
    }
   ],
   "source": [
    "model = rf\n",
    "data_result = data_test.copy()\n",
    "passenger_ids = data_result['PassengerId']\n",
    "data_result = preprocessing(data_result)\n",
    "predictions = model.predict(data_result) \n",
    "\n",
    "submission_df = pd.DataFrame({'PassengerId': passenger_ids, 'Survived': predictions})\n",
    "\n",
    "# Create a submission CSV file\n",
    "submission_df.to_csv('submission.csv', index=False)\n",
    "submission_df"
   ]
  },
  {
   "cell_type": "code",
   "execution_count": null,
   "id": "b3f4656d",
   "metadata": {
    "papermill": {
     "duration": 0.012683,
     "end_time": "2023-11-26T22:41:36.329590",
     "exception": false,
     "start_time": "2023-11-26T22:41:36.316907",
     "status": "completed"
    },
    "tags": []
   },
   "outputs": [],
   "source": []
  }
 ],
 "metadata": {
  "kaggle": {
   "accelerator": "none",
   "dataSources": [
    {
     "databundleVersionId": 26502,
     "sourceId": 3136,
     "sourceType": "competition"
    }
   ],
   "dockerImageVersionId": 30587,
   "isGpuEnabled": false,
   "isInternetEnabled": true,
   "language": "python",
   "sourceType": "notebook"
  },
  "kernelspec": {
   "display_name": "Python 3",
   "language": "python",
   "name": "python3"
  },
  "language_info": {
   "codemirror_mode": {
    "name": "ipython",
    "version": 3
   },
   "file_extension": ".py",
   "mimetype": "text/x-python",
   "name": "python",
   "nbconvert_exporter": "python",
   "pygments_lexer": "ipython3",
   "version": "3.10.12"
  },
  "papermill": {
   "default_parameters": {},
   "duration": 10.398225,
   "end_time": "2023-11-26T22:41:37.163593",
   "environment_variables": {},
   "exception": null,
   "input_path": "__notebook__.ipynb",
   "output_path": "__notebook__.ipynb",
   "parameters": {},
   "start_time": "2023-11-26T22:41:26.765368",
   "version": "2.4.0"
  }
 },
 "nbformat": 4,
 "nbformat_minor": 5
}
